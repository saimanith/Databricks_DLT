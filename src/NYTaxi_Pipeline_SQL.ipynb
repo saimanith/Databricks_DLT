{
 "cells": [
  {
   "cell_type": "code",
   "execution_count": 0,
   "metadata": {
    "application/vnd.databricks.v1+cell": {
     "cellMetadata": {},
     "inputWidgets": {},
     "nuid": "370e474b-169b-437c-b4bb-b3e198feac5f",
     "showTitle": false,
     "tableResultSettingsMap": {},
     "title": ""
    }
   },
   "outputs": [],
   "source": [
    "\n",
    "-- Databricks notebook source\n",
    "-- this example is based on the samples.nyctaxi data set\n",
    "-- data set is available at kaggle, https://www.kaggle.com/c/nyc-taxi-trip-duration/data\n",
    "\n",
    "-- bronze table for ingestion of the 22k NY taxi rides from\n",
    "-- with DLT data quality expectation to drop trips without a trip distance\n",
    "\n",
    "CREATE OR REFRESH STREAMING TABLE taxi_raw_records_ld\n",
    "(CONSTRAINT valid_distance EXPECT (trip_distance > 0.0) ON VIOLATION DROP ROW ) \n",
    "AS SELECT\n",
    "  *\n",
    "FROM\n",
    "  STREAM(samples.nyctaxi.trips);\n"
   ]
  },
  {
   "cell_type": "code",
   "execution_count": 0,
   "metadata": {
    "application/vnd.databricks.v1+cell": {
     "cellMetadata": {},
     "inputWidgets": {},
     "nuid": "33db1fd1-e944-4d68-9649-ea586f9661b0",
     "showTitle": false,
     "tableResultSettingsMap": {},
     "title": ""
    }
   },
   "outputs": [],
   "source": [
    "\n",
    "-- silver layer: data transformations and cleansing\n",
    "-- we look into short trips or trips within the same zip code that cost more than $50\n",
    "\n",
    "CREATE OR REFRESH STREAMING TABLE flagged_rides_ld\n",
    "AS SELECT\n",
    "  date_trunc(\"week\", tpep_pickup_datetime) as week,\n",
    "  pickup_zip as zip, \n",
    "  fare_amount, trip_distance\n",
    "FROM\n",
    "  STREAM(LIVE.taxi_raw_records_ld)\n",
    "WHERE   ((pickup_zip = dropoff_zip AND fare_amount > 50) OR\n",
    "        (trip_distance < 5 AND fare_amount > 50));\n",
    "\n",
    "\n",
    "-- calculate avg fares and trip distances for each week\n",
    "CREATE\n",
    "OR REFRESH MATERIALIZED VIEW weekly_stats_ld\n",
    "AS SELECT\n",
    "  date_trunc(\"week\", tpep_pickup_datetime) as week,\n",
    "  AVG(fare_amount) as avg_amount,\n",
    "  AVG(trip_distance) as avg_distance\n",
    "FROM\n",
    " live.taxi_raw_records_ld\n",
    "GROUP BY\n",
    "  week\n",
    "ORDER by week ASC;\n"
   ]
  },
  {
   "cell_type": "code",
   "execution_count": 0,
   "metadata": {
    "application/vnd.databricks.v1+cell": {
     "cellMetadata": {},
     "inputWidgets": {},
     "nuid": "f543ea66-fb8a-43db-be59-34712000ca0b",
     "showTitle": false,
     "tableResultSettingsMap": {},
     "title": ""
    }
   },
   "outputs": [],
   "source": [
    "\n",
    "-- gold layer using materialized for downstream usage, e.g. BI\n",
    "\n",
    "-- join weely_stats with flagged_rides for top n rides to investigate\n",
    "-- display top n short distance and costly rides\n",
    "\n",
    "CREATE OR REPLACE MATERIALIZED VIEW top_n_ld\n",
    "AS SELECT\n",
    "  weekly_stats.week,\n",
    "  ROUND(avg_amount,2) as avg_amount, \n",
    "  ROUND(avg_distance,3) as avg_distance,\n",
    "  fare_amount,trip_distance, zip \n",
    "FROM live.flagged_rides_ld\n",
    "LEFT JOIN live.weekly_stats_ld ON weekly_stats.week = flagged_rides.week\n",
    "ORDER BY fare_amount DESC\n",
    "LIMIT 3;\n",
    "\n"
   ]
  }
 ],
 "metadata": {
  "application/vnd.databricks.v1+notebook": {
   "computePreferences": null,
   "dashboards": [],
   "environmentMetadata": {
    "base_environment": "",
    "environment_version": "3"
   },
   "inputWidgetPreferences": null,
   "language": "sql",
   "notebookMetadata": {},
   "notebookName": "NYTaxi_Pipeline_SQL",
   "widgets": {}
  },
  "language_info": {
   "name": "sql"
  }
 },
 "nbformat": 4,
 "nbformat_minor": 0
}
